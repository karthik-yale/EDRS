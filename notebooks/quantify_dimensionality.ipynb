{
 "cells": [
  {
   "cell_type": "code",
   "execution_count": 2,
   "metadata": {},
   "outputs": [],
   "source": [
    "import numpy as np\n",
    "import pandas as pd\n",
    "import sys\n",
    "import os\n",
    "\n",
    "# Get the absolute path of the `src` directory\n",
    "src_path = os.path.abspath(os.path.join(os.getcwd(), \"..\", \"src\"))\n",
    "\n",
    "# Add to sys.path if not already present\n",
    "if src_path not in sys.path:\n",
    "    sys.path.append(src_path)\n",
    "\n",
    "from lvm_prediction import Predict"
   ]
  },
  {
   "cell_type": "markdown",
   "metadata": {},
   "source": [
    "### Import Data"
   ]
  },
  {
   "cell_type": "code",
   "execution_count": 3,
   "metadata": {},
   "outputs": [],
   "source": [
    "# Get the absolute path of the `Data` directory\n",
    "Data_path = os.path.abspath(os.path.join(os.getcwd(), \"..\", \"Data\"))\n",
    "\n",
    "# Add to sys.path if not already present\n",
    "if Data_path not in sys.path:\n",
    "    sys.path.append(Data_path)\n",
    "\n",
    "file_path = os.path.abspath(os.path.join(Data_path, \"Rumen_data_processed/cow_data_FI1.csv\"))\n",
    "data = pd.read_csv(file_path, index_col=0).values"
   ]
  },
  {
   "cell_type": "markdown",
   "metadata": {},
   "source": [
    "### Calculate EDRS (Effective Dimensionality of Resource Space)"
   ]
  },
  {
   "cell_type": "code",
   "execution_count": 4,
   "metadata": {},
   "outputs": [
    {
     "name": "stdout",
     "output_type": "stream",
     "text": [
      "10.45196396908871\n"
     ]
    }
   ],
   "source": [
    "eta = 0.01\n",
    "num_steps = 10000\n",
    "plot_loss=False\n",
    "\n",
    "# Predict class contains multiple functionalities one of which is quantifying EDRS\n",
    "predict_cls = Predict(data, eta=eta, num_steps=num_steps, plot_loss=plot_loss)\n",
    "predict_cls.calc_edrs() \n",
    "\n",
    "data_EDRS = predict_cls.edrs\n",
    "print(data_EDRS)"
   ]
  },
  {
   "cell_type": "code",
   "execution_count": null,
   "metadata": {},
   "outputs": [],
   "source": []
  }
 ],
 "metadata": {
  "kernelspec": {
   "display_name": "Python 3",
   "language": "python",
   "name": "python3"
  },
  "language_info": {
   "codemirror_mode": {
    "name": "ipython",
    "version": 3
   },
   "file_extension": ".py",
   "mimetype": "text/x-python",
   "name": "python",
   "nbconvert_exporter": "python",
   "pygments_lexer": "ipython3",
   "version": "3.12.2"
  }
 },
 "nbformat": 4,
 "nbformat_minor": 2
}
